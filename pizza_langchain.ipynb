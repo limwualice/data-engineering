{
 "cells": [
  {
   "cell_type": "code",
   "execution_count": 1,
   "metadata": {},
   "outputs": [
    {
     "ename": "NameError",
     "evalue": "name 'OpenAI' is not defined",
     "output_type": "error",
     "traceback": [
      "\u001b[0;31m---------------------------------------------------------------------------\u001b[0m",
      "\u001b[0;31mNameError\u001b[0m                                 Traceback (most recent call last)",
      "\u001b[0;32m<ipython-input-1-2e8e671e1c7b>\u001b[0m in \u001b[0;36m<module>\u001b[0;34m\u001b[0m\n\u001b[1;32m      8\u001b[0m \u001b[0mopenai\u001b[0m\u001b[0;34m.\u001b[0m\u001b[0mapi_key\u001b[0m \u001b[0;34m=\u001b[0m \u001b[0mOPENAI_API_KEY\u001b[0m\u001b[0;34m\u001b[0m\u001b[0;34m\u001b[0m\u001b[0m\n\u001b[1;32m      9\u001b[0m \u001b[0;34m\u001b[0m\u001b[0m\n\u001b[0;32m---> 10\u001b[0;31m \u001b[0mllm\u001b[0m \u001b[0;34m=\u001b[0m \u001b[0mOpenAI\u001b[0m\u001b[0;34m(\u001b[0m\u001b[0mtemperature\u001b[0m\u001b[0;34m=\u001b[0m\u001b[0;36m0\u001b[0m\u001b[0;34m,\u001b[0m \u001b[0mmodel\u001b[0m\u001b[0;34m=\u001b[0m\u001b[0;34m'text-curie-001'\u001b[0m\u001b[0;34m,\u001b[0m \u001b[0mopenai_api_key\u001b[0m \u001b[0;34m=\u001b[0m \u001b[0mOPENAI_API_KEY\u001b[0m\u001b[0;34m)\u001b[0m\u001b[0;34m\u001b[0m\u001b[0;34m\u001b[0m\u001b[0m\n\u001b[0m\u001b[1;32m     11\u001b[0m \u001b[0;34m\u001b[0m\u001b[0m\n\u001b[1;32m     12\u001b[0m \u001b[0mtext_splitter\u001b[0m \u001b[0;34m=\u001b[0m \u001b[0mCharacterTextSplitter\u001b[0m\u001b[0;34m(\u001b[0m\u001b[0;34m)\u001b[0m\u001b[0;34m\u001b[0m\u001b[0;34m\u001b[0m\u001b[0m\n",
      "\u001b[0;31mNameError\u001b[0m: name 'OpenAI' is not defined"
     ]
    }
   ],
   "source": [
    "from langchain import OpenAI as openai, PromptTemplate, LLMChain\n",
    "from langchain.text_splitter import CharacterTextSplitter\n",
    "from langchain.chains.mapreduce import MapReduceChain\n",
    "from langchain.prompts import PromptTemplate\n",
    "from config import OPENAI_API_KEY\n",
    "\n",
    "\n",
    "# Set your OpenAI API key\n",
    "openai.api_key = OPENAI_API_KEY\n",
    "\n",
    "llm = OpenAI(temperature=0, model='text-curie-001', openai_api_key = OPENAI_API_KEY)\n",
    "\n",
    "text_splitter = CharacterTextSplitter()"
   ]
  },
  {
   "cell_type": "code",
   "execution_count": 9,
   "metadata": {},
   "outputs": [
    {
     "data": {
      "text/html": [
       "<div>\n",
       "<style scoped>\n",
       "    .dataframe tbody tr th:only-of-type {\n",
       "        vertical-align: middle;\n",
       "    }\n",
       "\n",
       "    .dataframe tbody tr th {\n",
       "        vertical-align: top;\n",
       "    }\n",
       "\n",
       "    .dataframe thead th {\n",
       "        text-align: right;\n",
       "    }\n",
       "</style>\n",
       "<table border=\"1\" class=\"dataframe\">\n",
       "  <thead>\n",
       "    <tr style=\"text-align: right;\">\n",
       "      <th></th>\n",
       "      <th>business_id</th>\n",
       "      <th>review_id</th>\n",
       "      <th>text</th>\n",
       "    </tr>\n",
       "  </thead>\n",
       "  <tbody>\n",
       "    <tr>\n",
       "      <th>0</th>\n",
       "      <td>kV_Q1oqis8Qli8dUoGpTyQ</td>\n",
       "      <td>NmrPTpc8hMk7Py1WXCGAyQ</td>\n",
       "      <td>Bunch of high school/college kids running the ...</td>\n",
       "    </tr>\n",
       "    <tr>\n",
       "      <th>1</th>\n",
       "      <td>kV_Q1oqis8Qli8dUoGpTyQ</td>\n",
       "      <td>SU-CiUs2Pi1ox1SnUE5O7g</td>\n",
       "      <td>While housesitting for my mom, I recently revi...</td>\n",
       "    </tr>\n",
       "    <tr>\n",
       "      <th>2</th>\n",
       "      <td>kV_Q1oqis8Qli8dUoGpTyQ</td>\n",
       "      <td>1K5K2VNQocHwsV-j80xGMA</td>\n",
       "      <td>we definitely contributed to keeping them in b...</td>\n",
       "    </tr>\n",
       "    <tr>\n",
       "      <th>3</th>\n",
       "      <td>kV_Q1oqis8Qli8dUoGpTyQ</td>\n",
       "      <td>7Bn0ZX8zGLbFzTqY3f45WA</td>\n",
       "      <td>Their eggplant parm is terrible. Eggplant wasn...</td>\n",
       "    </tr>\n",
       "    <tr>\n",
       "      <th>4</th>\n",
       "      <td>kV_Q1oqis8Qli8dUoGpTyQ</td>\n",
       "      <td>z3Bpzu2aeoWO_oiSevCzxA</td>\n",
       "      <td>This pizza is great! Moved to the Main Line fr...</td>\n",
       "    </tr>\n",
       "  </tbody>\n",
       "</table>\n",
       "</div>"
      ],
      "text/plain": [
       "              business_id               review_id   \n",
       "0  kV_Q1oqis8Qli8dUoGpTyQ  NmrPTpc8hMk7Py1WXCGAyQ  \\\n",
       "1  kV_Q1oqis8Qli8dUoGpTyQ  SU-CiUs2Pi1ox1SnUE5O7g   \n",
       "2  kV_Q1oqis8Qli8dUoGpTyQ  1K5K2VNQocHwsV-j80xGMA   \n",
       "3  kV_Q1oqis8Qli8dUoGpTyQ  7Bn0ZX8zGLbFzTqY3f45WA   \n",
       "4  kV_Q1oqis8Qli8dUoGpTyQ  z3Bpzu2aeoWO_oiSevCzxA   \n",
       "\n",
       "                                                text  \n",
       "0  Bunch of high school/college kids running the ...  \n",
       "1  While housesitting for my mom, I recently revi...  \n",
       "2  we definitely contributed to keeping them in b...  \n",
       "3  Their eggplant parm is terrible. Eggplant wasn...  \n",
       "4  This pizza is great! Moved to the Main Line fr...  "
      ]
     },
     "execution_count": 9,
     "metadata": {},
     "output_type": "execute_result"
    }
   ],
   "source": [
    "import pandas as pd\n",
    "# Read the CSV file using pandas\n",
    "df = pd.read_csv(\"businesses_reviews.csv\")\n",
    "\n",
    "\n",
    "\n",
    "df=df[['business_id','review_id','text']]\n",
    "\n",
    "df.head()"
   ]
  },
  {
   "cell_type": "code",
   "execution_count": 11,
   "metadata": {},
   "outputs": [
    {
     "data": {
      "text/html": [
       "<div>\n",
       "<style scoped>\n",
       "    .dataframe tbody tr th:only-of-type {\n",
       "        vertical-align: middle;\n",
       "    }\n",
       "\n",
       "    .dataframe tbody tr th {\n",
       "        vertical-align: top;\n",
       "    }\n",
       "\n",
       "    .dataframe thead th {\n",
       "        text-align: right;\n",
       "    }\n",
       "</style>\n",
       "<table border=\"1\" class=\"dataframe\">\n",
       "  <thead>\n",
       "    <tr style=\"text-align: right;\">\n",
       "      <th></th>\n",
       "      <th>business_id</th>\n",
       "      <th>text</th>\n",
       "    </tr>\n",
       "  </thead>\n",
       "  <tbody>\n",
       "    <tr>\n",
       "      <th>0</th>\n",
       "      <td>-32hOCwsuKd04WO-HQyYFg</td>\n",
       "      <td>I was biking down Pine Street after a late vol...</td>\n",
       "    </tr>\n",
       "    <tr>\n",
       "      <th>1</th>\n",
       "      <td>-4lNMmoW7gRxkH0c2dfXfA</td>\n",
       "      <td>this pizza was so bomb. Remind me of firecrust...</td>\n",
       "    </tr>\n",
       "    <tr>\n",
       "      <th>2</th>\n",
       "      <td>-6kNhGurAbdNQanqbAaoMg</td>\n",
       "      <td>Great lunch carry outs ( a bit small to eat in...</td>\n",
       "    </tr>\n",
       "    <tr>\n",
       "      <th>3</th>\n",
       "      <td>-951Q5if-JmCQbO40meVPw</td>\n",
       "      <td>It took a longish time to get delivered(hour a...</td>\n",
       "    </tr>\n",
       "    <tr>\n",
       "      <th>4</th>\n",
       "      <td>-9sGD5Fi-DVwR6BsBAtu0w</td>\n",
       "      <td>Used to get pizza from here. But they took gro...</td>\n",
       "    </tr>\n",
       "  </tbody>\n",
       "</table>\n",
       "</div>"
      ],
      "text/plain": [
       "              business_id                                               text\n",
       "0  -32hOCwsuKd04WO-HQyYFg  I was biking down Pine Street after a late vol...\n",
       "1  -4lNMmoW7gRxkH0c2dfXfA  this pizza was so bomb. Remind me of firecrust...\n",
       "2  -6kNhGurAbdNQanqbAaoMg  Great lunch carry outs ( a bit small to eat in...\n",
       "3  -951Q5if-JmCQbO40meVPw  It took a longish time to get delivered(hour a...\n",
       "4  -9sGD5Fi-DVwR6BsBAtu0w  Used to get pizza from here. But they took gro..."
      ]
     },
     "execution_count": 11,
     "metadata": {},
     "output_type": "execute_result"
    }
   ],
   "source": [
    "# Group reviews by business_id and concatenate the reviews\n",
    "grouped_reviews = df.groupby(\"business_id\")[\"text\"].apply(lambda x: ' '.join(x)).reset_index()\n",
    "\n",
    "grouped_reviews.head()"
   ]
  },
  {
   "cell_type": "code",
   "execution_count": 45,
   "metadata": {},
   "outputs": [
    {
     "data": {
      "text/plain": [
       "1758"
      ]
     },
     "execution_count": 45,
     "metadata": {},
     "output_type": "execute_result"
    }
   ],
   "source": [
    "len(grouped_reviews)"
   ]
  },
  {
   "cell_type": "code",
   "execution_count": 28,
   "metadata": {},
   "outputs": [
    {
     "data": {
      "text/plain": [
       "1319    Bunch of high school/college kids running the ...\n",
       "Name: text, dtype: object"
      ]
     },
     "execution_count": 28,
     "metadata": {},
     "output_type": "execute_result"
    }
   ],
   "source": [
    "# Set the pandas display option to show the entire text column\n",
    "pd.set_option('display.max_colwidth', 50)\n",
    "grouped_reviews[grouped_reviews['business_id']=='kV_Q1oqis8Qli8dUoGpTyQ']['text']\n"
   ]
  },
  {
   "cell_type": "code",
   "execution_count": 32,
   "metadata": {},
   "outputs": [],
   "source": [
    "dummy=grouped_reviews['text'][0]"
   ]
  },
  {
   "cell_type": "code",
   "execution_count": 21,
   "metadata": {},
   "outputs": [
    {
     "data": {
      "text/html": [
       "<div>\n",
       "<style scoped>\n",
       "    .dataframe tbody tr th:only-of-type {\n",
       "        vertical-align: middle;\n",
       "    }\n",
       "\n",
       "    .dataframe tbody tr th {\n",
       "        vertical-align: top;\n",
       "    }\n",
       "\n",
       "    .dataframe thead th {\n",
       "        text-align: right;\n",
       "    }\n",
       "</style>\n",
       "<table border=\"1\" class=\"dataframe\">\n",
       "  <thead>\n",
       "    <tr style=\"text-align: right;\">\n",
       "      <th></th>\n",
       "      <th>business_id</th>\n",
       "      <th>text</th>\n",
       "    </tr>\n",
       "  </thead>\n",
       "  <tbody>\n",
       "    <tr>\n",
       "      <th>0</th>\n",
       "      <td>-32hOCwsuKd04WO-HQyYFg</td>\n",
       "      <td>I was biking down Pine Street after a late vol...</td>\n",
       "    </tr>\n",
       "    <tr>\n",
       "      <th>1</th>\n",
       "      <td>-4lNMmoW7gRxkH0c2dfXfA</td>\n",
       "      <td>this pizza was so bomb. Remind me of firecrust...</td>\n",
       "    </tr>\n",
       "    <tr>\n",
       "      <th>2</th>\n",
       "      <td>-6kNhGurAbdNQanqbAaoMg</td>\n",
       "      <td>Great lunch carry outs ( a bit small to eat in...</td>\n",
       "    </tr>\n",
       "    <tr>\n",
       "      <th>3</th>\n",
       "      <td>-951Q5if-JmCQbO40meVPw</td>\n",
       "      <td>It took a longish time to get delivered(hour a...</td>\n",
       "    </tr>\n",
       "    <tr>\n",
       "      <th>4</th>\n",
       "      <td>-9sGD5Fi-DVwR6BsBAtu0w</td>\n",
       "      <td>Used to get pizza from here. But they took gro...</td>\n",
       "    </tr>\n",
       "  </tbody>\n",
       "</table>\n",
       "</div>"
      ],
      "text/plain": [
       "              business_id                                               text\n",
       "0  -32hOCwsuKd04WO-HQyYFg  I was biking down Pine Street after a late vol...\n",
       "1  -4lNMmoW7gRxkH0c2dfXfA  this pizza was so bomb. Remind me of firecrust...\n",
       "2  -6kNhGurAbdNQanqbAaoMg  Great lunch carry outs ( a bit small to eat in...\n",
       "3  -951Q5if-JmCQbO40meVPw  It took a longish time to get delivered(hour a...\n",
       "4  -9sGD5Fi-DVwR6BsBAtu0w  Used to get pizza from here. But they took gro..."
      ]
     },
     "execution_count": 21,
     "metadata": {},
     "output_type": "execute_result"
    }
   ],
   "source": [
    "grouped_reviews.head()"
   ]
  },
  {
   "cell_type": "code",
   "execution_count": 64,
   "metadata": {},
   "outputs": [
    {
     "data": {
      "text/html": [
       "<div>\n",
       "<style scoped>\n",
       "    .dataframe tbody tr th:only-of-type {\n",
       "        vertical-align: middle;\n",
       "    }\n",
       "\n",
       "    .dataframe tbody tr th {\n",
       "        vertical-align: top;\n",
       "    }\n",
       "\n",
       "    .dataframe thead th {\n",
       "        text-align: right;\n",
       "    }\n",
       "</style>\n",
       "<table border=\"1\" class=\"dataframe\">\n",
       "  <thead>\n",
       "    <tr style=\"text-align: right;\">\n",
       "      <th></th>\n",
       "      <th>business_id</th>\n",
       "      <th>text</th>\n",
       "      <th>map_reduce</th>\n",
       "      <th>refine</th>\n",
       "      <th>stuff</th>\n",
       "    </tr>\n",
       "  </thead>\n",
       "  <tbody>\n",
       "    <tr>\n",
       "      <th>0</th>\n",
       "      <td>-32hOCwsuKd04WO-HQyYFg</td>\n",
       "      <td>I was biking down Pine Street after a late vol...</td>\n",
       "      <td>Pine Street Pizza is a popular spot for local...</td>\n",
       "      <td></td>\n",
       "      <td>Pine Street Pizza is a pizza shop in Center C...</td>\n",
       "    </tr>\n",
       "    <tr>\n",
       "      <th>1</th>\n",
       "      <td>-4lNMmoW7gRxkH0c2dfXfA</td>\n",
       "      <td>this pizza was so bomb. Remind me of firecrust...</td>\n",
       "      <td></td>\n",
       "      <td></td>\n",
       "      <td></td>\n",
       "    </tr>\n",
       "    <tr>\n",
       "      <th>2</th>\n",
       "      <td>-6kNhGurAbdNQanqbAaoMg</td>\n",
       "      <td>Great lunch carry outs ( a bit small to eat in...</td>\n",
       "      <td></td>\n",
       "      <td></td>\n",
       "      <td></td>\n",
       "    </tr>\n",
       "    <tr>\n",
       "      <th>3</th>\n",
       "      <td>-951Q5if-JmCQbO40meVPw</td>\n",
       "      <td>It took a longish time to get delivered(hour a...</td>\n",
       "      <td></td>\n",
       "      <td></td>\n",
       "      <td></td>\n",
       "    </tr>\n",
       "    <tr>\n",
       "      <th>4</th>\n",
       "      <td>-9sGD5Fi-DVwR6BsBAtu0w</td>\n",
       "      <td>Used to get pizza from here. But they took gro...</td>\n",
       "      <td></td>\n",
       "      <td></td>\n",
       "      <td></td>\n",
       "    </tr>\n",
       "  </tbody>\n",
       "</table>\n",
       "</div>"
      ],
      "text/plain": [
       "              business_id                                               text   \n",
       "0  -32hOCwsuKd04WO-HQyYFg  I was biking down Pine Street after a late vol...  \\\n",
       "1  -4lNMmoW7gRxkH0c2dfXfA  this pizza was so bomb. Remind me of firecrust...   \n",
       "2  -6kNhGurAbdNQanqbAaoMg  Great lunch carry outs ( a bit small to eat in...   \n",
       "3  -951Q5if-JmCQbO40meVPw  It took a longish time to get delivered(hour a...   \n",
       "4  -9sGD5Fi-DVwR6BsBAtu0w  Used to get pizza from here. But they took gro...   \n",
       "\n",
       "                                          map_reduce refine   \n",
       "0   Pine Street Pizza is a popular spot for local...         \\\n",
       "1                                                             \n",
       "2                                                             \n",
       "3                                                             \n",
       "4                                                             \n",
       "\n",
       "                                               stuff  \n",
       "0   Pine Street Pizza is a pizza shop in Center C...  \n",
       "1                                                     \n",
       "2                                                     \n",
       "3                                                     \n",
       "4                                                     "
      ]
     },
     "execution_count": 64,
     "metadata": {},
     "output_type": "execute_result"
    }
   ],
   "source": [
    "# grouped_reviews['map_reduce']=''\n",
    "grouped_reviews['refine']=''\n",
    "# grouped_reviews['stuff']=''\n",
    "grouped_reviews.head()"
   ]
  },
  {
   "cell_type": "code",
   "execution_count": null,
   "metadata": {},
   "outputs": [],
   "source": [
    "\n",
    "    \n",
    "dummy=grouped_reviews['text'][0]\n",
    "# Specify the file path and name\n",
    "file_path = \"to_langchain_dummy.txt\"\n",
    "\n",
    "# Open the file in write mode and save the content\n",
    "with open(file_path, \"w\") as file:\n",
    "    file.write(dummy)\n",
    "\n",
    "# print(f\"Text file {i} saved successfully.\")\n",
    "\n",
    "with open(\"to_langchain_dummy.txt\") as f:\n",
    "    state_of_the_union = f.read()\n",
    "texts = text_splitter.split_text(state_of_the_union)\n",
    "\n",
    "docs = [Document(page_content=t) for t in texts[:3]]\n",
    "\n",
    "chain = load_summarize_chain(llm, chain_type=\"refine\")\n",
    "chain.run(docs)\n",
    "\n",
    "# grouped_reviews['refine'][i]=refine\n",
    "    \n",
    "    \n",
    "# grouped_reviews"
   ]
  },
  {
   "cell_type": "code",
   "execution_count": 71,
   "metadata": {},
   "outputs": [],
   "source": [
    "# for i in range(101,len(grouped_reviews)):\n",
    "    \n",
    "#     dummy=grouped_reviews['text'][i]\n",
    "#     # Specify the file path and name\n",
    "#     file_path = \"to_langchain.txt\"\n",
    "\n",
    "#     # Open the file in write mode and save the content\n",
    "#     with open(file_path, \"w\") as file:\n",
    "#         file.write(dummy)\n",
    "\n",
    "#     print(f\"Text file {i} saved successfully.\")\n",
    "    \n",
    "#     with open(\"to_langchain.txt\") as f:\n",
    "#         state_of_the_union = f.read()\n",
    "#     texts = text_splitter.split_text(state_of_the_union)\n",
    "\n",
    "#     docs = [Document(page_content=t) for t in texts[:3]]\n",
    "    \n",
    "#     chain = load_summarize_chain(llm, chain_type=\"refine\")\n",
    "#     refine=chain.run(docs)\n",
    "    \n",
    "#     grouped_reviews['refine'][i]=refine\n",
    "    \n",
    "    \n",
    "# grouped_reviews"
   ]
  },
  {
   "cell_type": "code",
   "execution_count": 78,
   "metadata": {},
   "outputs": [],
   "source": [
    "grouped_reviews=grouped_reviews[['business_id','text','refine']]"
   ]
  },
  {
   "cell_type": "code",
   "execution_count": 79,
   "metadata": {},
   "outputs": [],
   "source": [
    "grouped_reviews.to_csv('pizza_langchained.csv')"
   ]
  },
  {
   "cell_type": "code",
   "execution_count": 33,
   "metadata": {},
   "outputs": [
    {
     "name": "stdout",
     "output_type": "stream",
     "text": [
      "Text file saved successfully.\n"
     ]
    }
   ],
   "source": [
    "# # Specify the file path and name\n",
    "# file_path = \"to_langchain.txt\"\n",
    "\n",
    "# # Open the file in write mode and save the content\n",
    "# with open(file_path, \"w\") as file:\n",
    "#     file.write(dummy)\n",
    "\n",
    "# print(\"Text file saved successfully.\")"
   ]
  },
  {
   "cell_type": "code",
   "execution_count": 34,
   "metadata": {},
   "outputs": [],
   "source": [
    "# with open(\"to_langchain.txt\") as f:\n",
    "#     state_of_the_union = f.read()\n",
    "# texts = text_splitter.split_text(state_of_the_union)"
   ]
  },
  {
   "cell_type": "code",
   "execution_count": 40,
   "metadata": {},
   "outputs": [],
   "source": [
    "# from langchain.docstore.document import Document\n",
    "\n",
    "# docs = [Document(page_content=t) for t in texts[:3]]"
   ]
  },
  {
   "cell_type": "code",
   "execution_count": 41,
   "metadata": {},
   "outputs": [],
   "source": [
    "# from langchain.chains.summarize import load_summarize_chain"
   ]
  },
  {
   "cell_type": "code",
   "execution_count": 46,
   "metadata": {},
   "outputs": [],
   "source": [
    "# chain = load_summarize_chain(llm, chain_type=\"map_reduce\")\n",
    "# map_reduce=chain.run(docs)"
   ]
  },
  {
   "cell_type": "code",
   "execution_count": 43,
   "metadata": {},
   "outputs": [
    {
     "data": {
      "text/plain": [
       "\"\\n\\nThis person had a bad experience at Pine Street Pizza, where they were only offered plain or pepperoni slices and the pizza was lukewarm and rubbery. They prefer NYPD Pizza and Mama Angelina's, and have had good experiences with takeout from Pine Street Pizza in the past. However, they had a bad experience with the white pizza with broccoli and breaded mushrooms, and would not recommend it. They also noted that the pizza is smaller than most in the area, but the slightly lower pricing makes up for it. Additionally, they warned to check for mold growths on the bottom of the pizza before eating. The shop has its regulars, and service is prompt with minimal wait time for food. The white anchovy pizza is a favorite, and the cheese ravioli comes with a generous portion of garlic bread. It is also conveniently located across the street from Giovanni's Room. The gyros are also tasty, and it is a popular stop for cops in the area. The strombolis are also great, and the mozz sticks are a favorite. Delivery is not recommended, as the pizza arrives cold. The pizza is different with a crisp buttery crust, and the owner recently passed away, so it is unclear how staff will change.\""
      ]
     },
     "execution_count": 43,
     "metadata": {},
     "output_type": "execute_result"
    }
   ],
   "source": [
    "# chain = load_summarize_chain(llm, chain_type=\"refine\")\n",
    "# refine=chain.run(docs)"
   ]
  },
  {
   "cell_type": "code",
   "execution_count": 44,
   "metadata": {},
   "outputs": [
    {
     "data": {
      "text/plain": [
       "' Pine Street Pizza is a pizza shop in Center City, Philadelphia that has been around for years. It is known for its thick, buttery crust and generous portions of cheese and toppings. Reviews of the pizza are mixed, with some people loving it and others finding it to be rubbery and greasy. The shop also offers other items such as cheese ravioli and gyros. Delivery is available, but some customers have complained that the pizza arrives cold. Prices are reasonable and the shop is open late.'"
      ]
     },
     "execution_count": 44,
     "metadata": {},
     "output_type": "execute_result"
    }
   ],
   "source": [
    "# chain = load_summarize_chain(llm, chain_type=\"stuff\")\n",
    "# stuff=chain.run(docs)"
   ]
  },
  {
   "cell_type": "code",
   "execution_count": 57,
   "metadata": {},
   "outputs": [
    {
     "ename": "NameError",
     "evalue": "name 'refine' is not defined",
     "output_type": "error",
     "traceback": [
      "\u001b[0;31m---------------------------------------------------------------------------\u001b[0m",
      "\u001b[0;31mNameError\u001b[0m                                 Traceback (most recent call last)",
      "\u001b[0;32m<ipython-input-57-a5b7dad79cea>\u001b[0m in \u001b[0;36m<module>\u001b[0;34m\u001b[0m\n\u001b[1;32m      1\u001b[0m \u001b[0mgrouped_reviews\u001b[0m\u001b[0;34m[\u001b[0m\u001b[0;34m'map_reduce'\u001b[0m\u001b[0;34m]\u001b[0m\u001b[0;34m[\u001b[0m\u001b[0;36m0\u001b[0m\u001b[0;34m]\u001b[0m\u001b[0;34m=\u001b[0m\u001b[0mmap_reduce\u001b[0m\u001b[0;34m\u001b[0m\u001b[0;34m\u001b[0m\u001b[0m\n\u001b[0;32m----> 2\u001b[0;31m \u001b[0mgrouped_reviews\u001b[0m\u001b[0;34m[\u001b[0m\u001b[0;34m'refine'\u001b[0m\u001b[0;34m]\u001b[0m\u001b[0;34m[\u001b[0m\u001b[0;36m0\u001b[0m\u001b[0;34m]\u001b[0m\u001b[0;34m=\u001b[0m\u001b[0mrefine\u001b[0m\u001b[0;34m\u001b[0m\u001b[0;34m\u001b[0m\u001b[0m\n\u001b[0m\u001b[1;32m      3\u001b[0m \u001b[0mgrouped_reviews\u001b[0m\u001b[0;34m[\u001b[0m\u001b[0;34m'stuff'\u001b[0m\u001b[0;34m]\u001b[0m\u001b[0;34m[\u001b[0m\u001b[0;36m0\u001b[0m\u001b[0;34m]\u001b[0m\u001b[0;34m=\u001b[0m\u001b[0mstuff\u001b[0m\u001b[0;34m\u001b[0m\u001b[0;34m\u001b[0m\u001b[0m\n\u001b[1;32m      4\u001b[0m \u001b[0mgrouped_reviews\u001b[0m\u001b[0;34m\u001b[0m\u001b[0;34m\u001b[0m\u001b[0m\n",
      "\u001b[0;31mNameError\u001b[0m: name 'refine' is not defined"
     ]
    }
   ],
   "source": [
    "# grouped_reviews['map_reduce'][0]=map_reduce\n",
    "# grouped_reviews['refine'][0]=refine\n",
    "# grouped_reviews['stuff'][0]=stuff\n",
    "# grouped_reviews"
   ]
  },
  {
   "cell_type": "code",
   "execution_count": null,
   "metadata": {},
   "outputs": [],
   "source": []
  }
 ],
 "metadata": {
  "kernelspec": {
   "display_name": "Python 3",
   "language": "python",
   "name": "python3"
  },
  "language_info": {
   "codemirror_mode": {
    "name": "ipython",
    "version": 3
   },
   "file_extension": ".py",
   "mimetype": "text/x-python",
   "name": "python",
   "nbconvert_exporter": "python",
   "pygments_lexer": "ipython3",
   "version": "3.8.5"
  }
 },
 "nbformat": 4,
 "nbformat_minor": 4
}
