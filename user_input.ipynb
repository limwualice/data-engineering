{
 "cells": [
  {
   "cell_type": "code",
   "execution_count": 4,
   "metadata": {},
   "outputs": [],
   "source": [
    "import pickle\n",
    "import pandas as pd\n",
    "\n",
    "# Load the KMeans model\n",
    "with open('kmeans.pkl', 'rb') as file:\n",
    "    kmeans = pickle.load(file)\n",
    "\n",
    "df=pd.read_csv('sushi_to_search.csv')\n"
   ]
  },
  {
   "cell_type": "code",
   "execution_count": 5,
   "metadata": {},
   "outputs": [],
   "source": [
    "rating = float(input(\"Enter the rating: \"))\n",
    "reviews = int(input(\"Enter the number of reviews: \"))\n",
    "price = input(\"Enter the Number of stars: \")\n"
   ]
  },
  {
   "cell_type": "code",
   "execution_count": 6,
   "metadata": {},
   "outputs": [
    {
     "name": "stderr",
     "output_type": "stream",
     "text": [
      "/Users/qefsquintillion/opt/anaconda3/envs/citation-analysis/lib/python3.10/site-packages/sklearn/base.py:439: UserWarning: X does not have valid feature names, but KMeans was fitted with feature names\n",
      "  warnings.warn(\n"
     ]
    }
   ],
   "source": [
    "user_input = [[rating, reviews, price]]\n",
    "user_cluster = kmeans.predict(user_input)"
   ]
  },
  {
   "cell_type": "code",
   "execution_count": 7,
   "metadata": {},
   "outputs": [
    {
     "name": "stdout",
     "output_type": "stream",
     "text": [
      "Top 5 sushi restaurants in the same cluster:\n",
      "     Unnamed: 0                     Name  Rating  Reviews  Price Street Name  \\\n",
      "737         737                Jimmysugi     5.0       10      0           E   \n",
      "980         980   Takeout Sushi and Roll     5.0       58      2           W   \n",
      "528         528                   Savida     5.0      120      0     Montana   \n",
      "668         668  Blue Fish Entertainment     5.0        1      0       Ocean   \n",
      "941         941      Sushi Enya Sawtelle     5.0        3      0           W   \n",
      "\n",
      "     Zip Code          City  Cluster  \n",
      "737     90012   Los Angeles        1  \n",
      "980     90020   Los Angeles        1  \n",
      "528     90403  Santa Monica        1  \n",
      "668     90401  Santa Monica        1  \n",
      "941     90064   Los Angeles        1  \n"
     ]
    }
   ],
   "source": [
    "\n",
    "# Get the indices of restaurants in the same cluster\n",
    "cluster_indices = [index for index, cluster in enumerate(kmeans.labels_) if cluster == user_cluster]\n",
    "\n",
    "# Filter the dataframe to get restaurants in the same cluster\n",
    "similar_restaurants = df.iloc[cluster_indices]\n",
    "\n",
    "# Sort the restaurants by a relevant metric (e.g., rating, reviews)\n",
    "similar_restaurants = similar_restaurants.sort_values('Rating', ascending=False)\n",
    "\n",
    "# Select the top 5 sushi restaurants\n",
    "top_5_restaurants = similar_restaurants.head(5)\n",
    "print(\"Top 5 sushi restaurants in the same cluster:\")\n",
    "print(top_5_restaurants)\n"
   ]
  },
  {
   "cell_type": "code",
   "execution_count": null,
   "metadata": {},
   "outputs": [],
   "source": []
  }
 ],
 "metadata": {
  "kernelspec": {
   "display_name": "citation-analysis",
   "language": "python",
   "name": "python3"
  },
  "language_info": {
   "codemirror_mode": {
    "name": "ipython",
    "version": 3
   },
   "file_extension": ".py",
   "mimetype": "text/x-python",
   "name": "python",
   "nbconvert_exporter": "python",
   "pygments_lexer": "ipython3",
   "version": "3.10.9"
  },
  "orig_nbformat": 4
 },
 "nbformat": 4,
 "nbformat_minor": 2
}
