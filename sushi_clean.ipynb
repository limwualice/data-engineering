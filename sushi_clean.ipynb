{
 "cells": [
  {
   "cell_type": "code",
   "execution_count": 21,
   "metadata": {},
   "outputs": [],
   "source": [
    "import pandas as pd\n",
    "import numpy as np\n"
   ]
  },
  {
   "cell_type": "code",
   "execution_count": 22,
   "metadata": {},
   "outputs": [
    {
     "data": {
      "text/html": [
       "<div>\n",
       "<style scoped>\n",
       "    .dataframe tbody tr th:only-of-type {\n",
       "        vertical-align: middle;\n",
       "    }\n",
       "\n",
       "    .dataframe tbody tr th {\n",
       "        vertical-align: top;\n",
       "    }\n",
       "\n",
       "    .dataframe thead th {\n",
       "        text-align: right;\n",
       "    }\n",
       "</style>\n",
       "<table border=\"1\" class=\"dataframe\">\n",
       "  <thead>\n",
       "    <tr style=\"text-align: right;\">\n",
       "      <th></th>\n",
       "      <th>Name</th>\n",
       "      <th>Rating</th>\n",
       "      <th>Reviews</th>\n",
       "      <th>Price</th>\n",
       "      <th>Location</th>\n",
       "    </tr>\n",
       "  </thead>\n",
       "  <tbody>\n",
       "    <tr>\n",
       "      <th>0</th>\n",
       "      <td>Yama Sushi Sake Attitude</td>\n",
       "      <td>5.0</td>\n",
       "      <td>214</td>\n",
       "      <td>$$</td>\n",
       "      <td>{'address1': '11709 National Blvd', 'address2'...</td>\n",
       "    </tr>\n",
       "    <tr>\n",
       "      <th>1</th>\n",
       "      <td>Uzumaki</td>\n",
       "      <td>4.5</td>\n",
       "      <td>669</td>\n",
       "      <td>$$</td>\n",
       "      <td>{'address1': '11060 Washington Blvd', 'address...</td>\n",
       "    </tr>\n",
       "    <tr>\n",
       "      <th>2</th>\n",
       "      <td>Izakaya Osen - Los Angeles</td>\n",
       "      <td>4.5</td>\n",
       "      <td>1631</td>\n",
       "      <td>$$</td>\n",
       "      <td>{'address1': '2903 Sunset Blvd', 'address2': '...</td>\n",
       "    </tr>\n",
       "    <tr>\n",
       "      <th>3</th>\n",
       "      <td>Roll Call - Koreatown</td>\n",
       "      <td>4.5</td>\n",
       "      <td>532</td>\n",
       "      <td>$$</td>\n",
       "      <td>{'address1': '3183 Wilshire Blvd', 'address2':...</td>\n",
       "    </tr>\n",
       "    <tr>\n",
       "      <th>4</th>\n",
       "      <td>K-ZO</td>\n",
       "      <td>4.0</td>\n",
       "      <td>923</td>\n",
       "      <td>$$$</td>\n",
       "      <td>{'address1': '9240 Culver Blvd', 'address2': N...</td>\n",
       "    </tr>\n",
       "  </tbody>\n",
       "</table>\n",
       "</div>"
      ],
      "text/plain": [
       "                         Name  Rating  Reviews Price  \\\n",
       "0    Yama Sushi Sake Attitude     5.0      214    $$   \n",
       "1                     Uzumaki     4.5      669    $$   \n",
       "2  Izakaya Osen - Los Angeles     4.5     1631    $$   \n",
       "3       Roll Call - Koreatown     4.5      532    $$   \n",
       "4                        K-ZO     4.0      923   $$$   \n",
       "\n",
       "                                            Location  \n",
       "0  {'address1': '11709 National Blvd', 'address2'...  \n",
       "1  {'address1': '11060 Washington Blvd', 'address...  \n",
       "2  {'address1': '2903 Sunset Blvd', 'address2': '...  \n",
       "3  {'address1': '3183 Wilshire Blvd', 'address2':...  \n",
       "4  {'address1': '9240 Culver Blvd', 'address2': N...  "
      ]
     },
     "execution_count": 22,
     "metadata": {},
     "output_type": "execute_result"
    }
   ],
   "source": [
    "df=pd.read_csv('sushi.csv')\n",
    "df.head()"
   ]
  },
  {
   "cell_type": "code",
   "execution_count": 20,
   "metadata": {},
   "outputs": [
    {
     "data": {
      "text/plain": [
       "1000"
      ]
     },
     "execution_count": 20,
     "metadata": {},
     "output_type": "execute_result"
    }
   ],
   "source": [
    "len(df)"
   ]
  },
  {
   "cell_type": "code",
   "execution_count": null,
   "metadata": {},
   "outputs": [],
   "source": [
    "# Assuming your DataFrame is called 'df' and the column is 'location'\n",
    "df['Number of Locations'] = df['Location'].apply(lambda x: len(x.keys()))\n",
    "df['Price'] = df['Price'].str.count('$')\n",
    "\n",
    "\n",
    "# Define a function to extract the street name\n",
    "def extract_street_name(address):\n",
    "    # Split the address by whitespace\n",
    "    parts = address.split()\n",
    "    \n",
    "    # Remove the last word (e.g., 'Blvd', 'Ave', etc.)\n",
    "    street_parts = parts[:-1]\n",
    "    \n",
    "    # Join the remaining parts to form the street name\n",
    "    street_name = ' '.join(street_parts)\n",
    "    \n",
    "    return street_name\n",
    "\n",
    "# Apply the function to the 'address' column to create a new 'street_name' column\n",
    "df['street_name'] = df['address'].apply(extract_street_name)\n",
    "\n",
    "# Print the updated DataFrame\n",
    "print(df)\n"
   ]
  }
 ],
 "metadata": {
  "kernelspec": {
   "display_name": "citation-analysis",
   "language": "python",
   "name": "python3"
  },
  "language_info": {
   "codemirror_mode": {
    "name": "ipython",
    "version": 3
   },
   "file_extension": ".py",
   "mimetype": "text/x-python",
   "name": "python",
   "nbconvert_exporter": "python",
   "pygments_lexer": "ipython3",
   "version": "3.10.9"
  },
  "orig_nbformat": 4
 },
 "nbformat": 4,
 "nbformat_minor": 2
}
