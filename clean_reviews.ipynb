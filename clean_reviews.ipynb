{
 "cells": [
  {
   "cell_type": "code",
   "execution_count": 4,
   "metadata": {},
   "outputs": [
    {
     "data": {
      "text/html": [
       "<div>\n",
       "<style scoped>\n",
       "    .dataframe tbody tr th:only-of-type {\n",
       "        vertical-align: middle;\n",
       "    }\n",
       "\n",
       "    .dataframe tbody tr th {\n",
       "        vertical-align: top;\n",
       "    }\n",
       "\n",
       "    .dataframe thead th {\n",
       "        text-align: right;\n",
       "    }\n",
       "</style>\n",
       "<table border=\"1\" class=\"dataframe\">\n",
       "  <thead>\n",
       "    <tr style=\"text-align: right;\">\n",
       "      <th></th>\n",
       "      <th>Name</th>\n",
       "      <th>Rating</th>\n",
       "      <th>Reviews</th>\n",
       "      <th>Price</th>\n",
       "      <th>Location</th>\n",
       "      <th>ReviewsData</th>\n",
       "    </tr>\n",
       "  </thead>\n",
       "  <tbody>\n",
       "    <tr>\n",
       "      <th>0</th>\n",
       "      <td>Shikibu Restaurant</td>\n",
       "      <td>4.5</td>\n",
       "      <td>410</td>\n",
       "      <td>$$</td>\n",
       "      <td>{'address1': '10834 Washington Blvd', 'address...</td>\n",
       "      <td>['Chef Thomas and Sophia are the absolute best...</td>\n",
       "    </tr>\n",
       "    <tr>\n",
       "      <th>1</th>\n",
       "      <td>Yama Sushi Sake Attitude</td>\n",
       "      <td>5.0</td>\n",
       "      <td>218</td>\n",
       "      <td>$$</td>\n",
       "      <td>{'address1': '11709 National Blvd', 'address2'...</td>\n",
       "      <td>[\"I'm a big fan of the SGV location and loved ...</td>\n",
       "    </tr>\n",
       "    <tr>\n",
       "      <th>2</th>\n",
       "      <td>Uzumaki</td>\n",
       "      <td>4.5</td>\n",
       "      <td>672</td>\n",
       "      <td>$$</td>\n",
       "      <td>{'address1': '11060 Washington Blvd', 'address...</td>\n",
       "      <td>[\"A perfect find on a rainy night in Manhattan...</td>\n",
       "    </tr>\n",
       "    <tr>\n",
       "      <th>3</th>\n",
       "      <td>Izakaya Osen - Los Angeles</td>\n",
       "      <td>4.5</td>\n",
       "      <td>1634</td>\n",
       "      <td>$$</td>\n",
       "      <td>{'address1': '2903 Sunset Blvd', 'address2': '...</td>\n",
       "      <td>['The atmosphere is ok if you like eating outs...</td>\n",
       "    </tr>\n",
       "    <tr>\n",
       "      <th>4</th>\n",
       "      <td>K-ZO</td>\n",
       "      <td>4.0</td>\n",
       "      <td>924</td>\n",
       "      <td>$$$</td>\n",
       "      <td>{'address1': '9240 Culver Blvd', 'address2': N...</td>\n",
       "      <td>['Contemporary sushi spot in the heart of down...</td>\n",
       "    </tr>\n",
       "  </tbody>\n",
       "</table>\n",
       "</div>"
      ],
      "text/plain": [
       "                         Name  Rating  Reviews Price   \n",
       "0          Shikibu Restaurant     4.5      410    $$  \\\n",
       "1    Yama Sushi Sake Attitude     5.0      218    $$   \n",
       "2                     Uzumaki     4.5      672    $$   \n",
       "3  Izakaya Osen - Los Angeles     4.5     1634    $$   \n",
       "4                        K-ZO     4.0      924   $$$   \n",
       "\n",
       "                                            Location   \n",
       "0  {'address1': '10834 Washington Blvd', 'address...  \\\n",
       "1  {'address1': '11709 National Blvd', 'address2'...   \n",
       "2  {'address1': '11060 Washington Blvd', 'address...   \n",
       "3  {'address1': '2903 Sunset Blvd', 'address2': '...   \n",
       "4  {'address1': '9240 Culver Blvd', 'address2': N...   \n",
       "\n",
       "                                         ReviewsData  \n",
       "0  ['Chef Thomas and Sophia are the absolute best...  \n",
       "1  [\"I'm a big fan of the SGV location and loved ...  \n",
       "2  [\"A perfect find on a rainy night in Manhattan...  \n",
       "3  ['The atmosphere is ok if you like eating outs...  \n",
       "4  ['Contemporary sushi spot in the heart of down...  "
      ]
     },
     "execution_count": 4,
     "metadata": {},
     "output_type": "execute_result"
    }
   ],
   "source": [
    "import pandas as pd\n",
    "import numpy as np\n",
    "\n",
    "df=pd.read_csv('sushi_reviews.csv')\n",
    "df.head()"
   ]
  },
  {
   "cell_type": "code",
   "execution_count": 7,
   "metadata": {},
   "outputs": [
    {
     "data": {
      "text/plain": [
       "484"
      ]
     },
     "execution_count": 7,
     "metadata": {},
     "output_type": "execute_result"
    }
   ],
   "source": [
    "len(df['ReviewsData'][0])"
   ]
  },
  {
   "cell_type": "code",
   "execution_count": 6,
   "metadata": {},
   "outputs": [
    {
     "data": {
      "text/plain": [
       "50"
      ]
     },
     "execution_count": 6,
     "metadata": {},
     "output_type": "execute_result"
    }
   ],
   "source": [
    "len(df)"
   ]
  },
  {
   "cell_type": "code",
   "execution_count": null,
   "metadata": {},
   "outputs": [],
   "source": []
  }
 ],
 "metadata": {
  "kernelspec": {
   "display_name": "Python 3",
   "language": "python",
   "name": "python3"
  },
  "language_info": {
   "codemirror_mode": {
    "name": "ipython",
    "version": 3
   },
   "file_extension": ".py",
   "mimetype": "text/x-python",
   "name": "python",
   "nbconvert_exporter": "python",
   "pygments_lexer": "ipython3",
   "version": "3.8.5"
  }
 },
 "nbformat": 4,
 "nbformat_minor": 4
}
