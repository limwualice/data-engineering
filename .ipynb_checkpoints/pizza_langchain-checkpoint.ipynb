{
 "cells": [
  {
   "cell_type": "code",
   "execution_count": 24,
   "metadata": {},
   "outputs": [],
   "source": [
    "from langchain import OpenAI as openai, PromptTemplate, LLMChain\n",
    "from langchain.text_splitter import CharacterTextSplitter\n",
    "from langchain.chains.mapreduce import MapReduceChain\n",
    "from langchain.prompts import PromptTemplate\n",
    "from config import OPENAI_API_KEY\n",
    "\n",
    "# Set your OpenAI API key\n",
    "openai.api_key = OPENAI_API_KEY\n",
    "\n",
    "llm = OpenAI(temperature=0, openai_api_key = OPENAI_API_KEY)\n",
    "\n",
    "text_splitter = CharacterTextSplitter()"
   ]
  },
  {
   "cell_type": "code",
   "execution_count": 9,
   "metadata": {},
   "outputs": [
    {
     "data": {
      "text/html": [
       "<div>\n",
       "<style scoped>\n",
       "    .dataframe tbody tr th:only-of-type {\n",
       "        vertical-align: middle;\n",
       "    }\n",
       "\n",
       "    .dataframe tbody tr th {\n",
       "        vertical-align: top;\n",
       "    }\n",
       "\n",
       "    .dataframe thead th {\n",
       "        text-align: right;\n",
       "    }\n",
       "</style>\n",
       "<table border=\"1\" class=\"dataframe\">\n",
       "  <thead>\n",
       "    <tr style=\"text-align: right;\">\n",
       "      <th></th>\n",
       "      <th>business_id</th>\n",
       "      <th>review_id</th>\n",
       "      <th>text</th>\n",
       "    </tr>\n",
       "  </thead>\n",
       "  <tbody>\n",
       "    <tr>\n",
       "      <th>0</th>\n",
       "      <td>kV_Q1oqis8Qli8dUoGpTyQ</td>\n",
       "      <td>NmrPTpc8hMk7Py1WXCGAyQ</td>\n",
       "      <td>Bunch of high school/college kids running the ...</td>\n",
       "    </tr>\n",
       "    <tr>\n",
       "      <th>1</th>\n",
       "      <td>kV_Q1oqis8Qli8dUoGpTyQ</td>\n",
       "      <td>SU-CiUs2Pi1ox1SnUE5O7g</td>\n",
       "      <td>While housesitting for my mom, I recently revi...</td>\n",
       "    </tr>\n",
       "    <tr>\n",
       "      <th>2</th>\n",
       "      <td>kV_Q1oqis8Qli8dUoGpTyQ</td>\n",
       "      <td>1K5K2VNQocHwsV-j80xGMA</td>\n",
       "      <td>we definitely contributed to keeping them in b...</td>\n",
       "    </tr>\n",
       "    <tr>\n",
       "      <th>3</th>\n",
       "      <td>kV_Q1oqis8Qli8dUoGpTyQ</td>\n",
       "      <td>7Bn0ZX8zGLbFzTqY3f45WA</td>\n",
       "      <td>Their eggplant parm is terrible. Eggplant wasn...</td>\n",
       "    </tr>\n",
       "    <tr>\n",
       "      <th>4</th>\n",
       "      <td>kV_Q1oqis8Qli8dUoGpTyQ</td>\n",
       "      <td>z3Bpzu2aeoWO_oiSevCzxA</td>\n",
       "      <td>This pizza is great! Moved to the Main Line fr...</td>\n",
       "    </tr>\n",
       "  </tbody>\n",
       "</table>\n",
       "</div>"
      ],
      "text/plain": [
       "              business_id               review_id   \n",
       "0  kV_Q1oqis8Qli8dUoGpTyQ  NmrPTpc8hMk7Py1WXCGAyQ  \\\n",
       "1  kV_Q1oqis8Qli8dUoGpTyQ  SU-CiUs2Pi1ox1SnUE5O7g   \n",
       "2  kV_Q1oqis8Qli8dUoGpTyQ  1K5K2VNQocHwsV-j80xGMA   \n",
       "3  kV_Q1oqis8Qli8dUoGpTyQ  7Bn0ZX8zGLbFzTqY3f45WA   \n",
       "4  kV_Q1oqis8Qli8dUoGpTyQ  z3Bpzu2aeoWO_oiSevCzxA   \n",
       "\n",
       "                                                text  \n",
       "0  Bunch of high school/college kids running the ...  \n",
       "1  While housesitting for my mom, I recently revi...  \n",
       "2  we definitely contributed to keeping them in b...  \n",
       "3  Their eggplant parm is terrible. Eggplant wasn...  \n",
       "4  This pizza is great! Moved to the Main Line fr...  "
      ]
     },
     "execution_count": 9,
     "metadata": {},
     "output_type": "execute_result"
    }
   ],
   "source": [
    "import pandas as pd\n",
    "# Read the CSV file using pandas\n",
    "df = pd.read_csv(\"businesses_reviews.csv\")\n",
    "\n",
    "\n",
    "\n",
    "df=df[['business_id','review_id','text']]\n",
    "\n",
    "df.head()"
   ]
  },
  {
   "cell_type": "code",
   "execution_count": 11,
   "metadata": {},
   "outputs": [
    {
     "data": {
      "text/html": [
       "<div>\n",
       "<style scoped>\n",
       "    .dataframe tbody tr th:only-of-type {\n",
       "        vertical-align: middle;\n",
       "    }\n",
       "\n",
       "    .dataframe tbody tr th {\n",
       "        vertical-align: top;\n",
       "    }\n",
       "\n",
       "    .dataframe thead th {\n",
       "        text-align: right;\n",
       "    }\n",
       "</style>\n",
       "<table border=\"1\" class=\"dataframe\">\n",
       "  <thead>\n",
       "    <tr style=\"text-align: right;\">\n",
       "      <th></th>\n",
       "      <th>business_id</th>\n",
       "      <th>text</th>\n",
       "    </tr>\n",
       "  </thead>\n",
       "  <tbody>\n",
       "    <tr>\n",
       "      <th>0</th>\n",
       "      <td>-32hOCwsuKd04WO-HQyYFg</td>\n",
       "      <td>I was biking down Pine Street after a late vol...</td>\n",
       "    </tr>\n",
       "    <tr>\n",
       "      <th>1</th>\n",
       "      <td>-4lNMmoW7gRxkH0c2dfXfA</td>\n",
       "      <td>this pizza was so bomb. Remind me of firecrust...</td>\n",
       "    </tr>\n",
       "    <tr>\n",
       "      <th>2</th>\n",
       "      <td>-6kNhGurAbdNQanqbAaoMg</td>\n",
       "      <td>Great lunch carry outs ( a bit small to eat in...</td>\n",
       "    </tr>\n",
       "    <tr>\n",
       "      <th>3</th>\n",
       "      <td>-951Q5if-JmCQbO40meVPw</td>\n",
       "      <td>It took a longish time to get delivered(hour a...</td>\n",
       "    </tr>\n",
       "    <tr>\n",
       "      <th>4</th>\n",
       "      <td>-9sGD5Fi-DVwR6BsBAtu0w</td>\n",
       "      <td>Used to get pizza from here. But they took gro...</td>\n",
       "    </tr>\n",
       "  </tbody>\n",
       "</table>\n",
       "</div>"
      ],
      "text/plain": [
       "              business_id                                               text\n",
       "0  -32hOCwsuKd04WO-HQyYFg  I was biking down Pine Street after a late vol...\n",
       "1  -4lNMmoW7gRxkH0c2dfXfA  this pizza was so bomb. Remind me of firecrust...\n",
       "2  -6kNhGurAbdNQanqbAaoMg  Great lunch carry outs ( a bit small to eat in...\n",
       "3  -951Q5if-JmCQbO40meVPw  It took a longish time to get delivered(hour a...\n",
       "4  -9sGD5Fi-DVwR6BsBAtu0w  Used to get pizza from here. But they took gro..."
      ]
     },
     "execution_count": 11,
     "metadata": {},
     "output_type": "execute_result"
    }
   ],
   "source": [
    "# Group reviews by business_id and concatenate the reviews\n",
    "grouped_reviews = df.groupby(\"business_id\")[\"text\"].apply(lambda x: ' '.join(x)).reset_index()\n",
    "\n",
    "grouped_reviews.head()"
   ]
  },
  {
   "cell_type": "code",
   "execution_count": 45,
   "metadata": {},
   "outputs": [
    {
     "data": {
      "text/plain": [
       "1758"
      ]
     },
     "execution_count": 45,
     "metadata": {},
     "output_type": "execute_result"
    }
   ],
   "source": [
    "len(grouped_reviews)"
   ]
  },
  {
   "cell_type": "code",
   "execution_count": 28,
   "metadata": {},
   "outputs": [
    {
     "data": {
      "text/plain": [
       "1319    Bunch of high school/college kids running the ...\n",
       "Name: text, dtype: object"
      ]
     },
     "execution_count": 28,
     "metadata": {},
     "output_type": "execute_result"
    }
   ],
   "source": [
    "# Set the pandas display option to show the entire text column\n",
    "pd.set_option('display.max_colwidth', 50)\n",
    "grouped_reviews[grouped_reviews['business_id']=='kV_Q1oqis8Qli8dUoGpTyQ']['text']\n"
   ]
  },
  {
   "cell_type": "code",
   "execution_count": 32,
   "metadata": {},
   "outputs": [],
   "source": [
    "dummy=grouped_reviews['text'][0]"
   ]
  },
  {
   "cell_type": "code",
   "execution_count": 21,
   "metadata": {},
   "outputs": [
    {
     "data": {
      "text/html": [
       "<div>\n",
       "<style scoped>\n",
       "    .dataframe tbody tr th:only-of-type {\n",
       "        vertical-align: middle;\n",
       "    }\n",
       "\n",
       "    .dataframe tbody tr th {\n",
       "        vertical-align: top;\n",
       "    }\n",
       "\n",
       "    .dataframe thead th {\n",
       "        text-align: right;\n",
       "    }\n",
       "</style>\n",
       "<table border=\"1\" class=\"dataframe\">\n",
       "  <thead>\n",
       "    <tr style=\"text-align: right;\">\n",
       "      <th></th>\n",
       "      <th>business_id</th>\n",
       "      <th>text</th>\n",
       "    </tr>\n",
       "  </thead>\n",
       "  <tbody>\n",
       "    <tr>\n",
       "      <th>0</th>\n",
       "      <td>-32hOCwsuKd04WO-HQyYFg</td>\n",
       "      <td>I was biking down Pine Street after a late vol...</td>\n",
       "    </tr>\n",
       "    <tr>\n",
       "      <th>1</th>\n",
       "      <td>-4lNMmoW7gRxkH0c2dfXfA</td>\n",
       "      <td>this pizza was so bomb. Remind me of firecrust...</td>\n",
       "    </tr>\n",
       "    <tr>\n",
       "      <th>2</th>\n",
       "      <td>-6kNhGurAbdNQanqbAaoMg</td>\n",
       "      <td>Great lunch carry outs ( a bit small to eat in...</td>\n",
       "    </tr>\n",
       "    <tr>\n",
       "      <th>3</th>\n",
       "      <td>-951Q5if-JmCQbO40meVPw</td>\n",
       "      <td>It took a longish time to get delivered(hour a...</td>\n",
       "    </tr>\n",
       "    <tr>\n",
       "      <th>4</th>\n",
       "      <td>-9sGD5Fi-DVwR6BsBAtu0w</td>\n",
       "      <td>Used to get pizza from here. But they took gro...</td>\n",
       "    </tr>\n",
       "  </tbody>\n",
       "</table>\n",
       "</div>"
      ],
      "text/plain": [
       "              business_id                                               text\n",
       "0  -32hOCwsuKd04WO-HQyYFg  I was biking down Pine Street after a late vol...\n",
       "1  -4lNMmoW7gRxkH0c2dfXfA  this pizza was so bomb. Remind me of firecrust...\n",
       "2  -6kNhGurAbdNQanqbAaoMg  Great lunch carry outs ( a bit small to eat in...\n",
       "3  -951Q5if-JmCQbO40meVPw  It took a longish time to get delivered(hour a...\n",
       "4  -9sGD5Fi-DVwR6BsBAtu0w  Used to get pizza from here. But they took gro..."
      ]
     },
     "execution_count": 21,
     "metadata": {},
     "output_type": "execute_result"
    }
   ],
   "source": [
    "grouped_reviews.head()"
   ]
  },
  {
   "cell_type": "code",
   "execution_count": 33,
   "metadata": {},
   "outputs": [
    {
     "name": "stdout",
     "output_type": "stream",
     "text": [
      "Text file saved successfully.\n"
     ]
    }
   ],
   "source": [
    "# Specify the file path and name\n",
    "file_path = \"to_langchain.txt\"\n",
    "\n",
    "# Open the file in write mode and save the content\n",
    "with open(file_path, \"w\") as file:\n",
    "    file.write(dummy)\n",
    "\n",
    "print(\"Text file saved successfully.\")"
   ]
  },
  {
   "cell_type": "code",
   "execution_count": 34,
   "metadata": {},
   "outputs": [],
   "source": [
    "with open(\"to_langchain.txt\") as f:\n",
    "    state_of_the_union = f.read()\n",
    "texts = text_splitter.split_text(state_of_the_union)"
   ]
  },
  {
   "cell_type": "code",
   "execution_count": 39,
   "metadata": {},
   "outputs": [
    {
     "name": "stdout",
     "output_type": "stream",
     "text": [
      "Collecting tiktoken\n",
      "  Downloading tiktoken-0.4.0-cp38-cp38-macosx_10_9_x86_64.whl (798 kB)\n",
      "\u001b[2K     \u001b[38;2;114;156;31m━━━━━━━━━━━━━━━━━━━━━━━━━━━━━━━━━━━━━━━\u001b[0m \u001b[32m798.4/798.4 kB\u001b[0m \u001b[31m6.2 MB/s\u001b[0m eta \u001b[36m0:00:00\u001b[0mm eta \u001b[36m0:00:01\u001b[0m[36m0:00:01\u001b[0m\n",
      "\u001b[?25hCollecting regex>=2022.1.18 (from tiktoken)\n",
      "  Using cached regex-2023.5.5-cp38-cp38-macosx_10_9_x86_64.whl (294 kB)\n",
      "Requirement already satisfied: requests>=2.26.0 in /Users/qefsquintillion/opt/anaconda3/lib/python3.8/site-packages (from tiktoken) (2.30.0)\n",
      "Requirement already satisfied: charset-normalizer<4,>=2 in /Users/qefsquintillion/opt/anaconda3/lib/python3.8/site-packages (from requests>=2.26.0->tiktoken) (3.1.0)\n",
      "Requirement already satisfied: idna<4,>=2.5 in /Users/qefsquintillion/opt/anaconda3/lib/python3.8/site-packages (from requests>=2.26.0->tiktoken) (3.4)\n",
      "Requirement already satisfied: urllib3<3,>=1.21.1 in /Users/qefsquintillion/opt/anaconda3/lib/python3.8/site-packages (from requests>=2.26.0->tiktoken) (2.0.2)\n",
      "Requirement already satisfied: certifi>=2017.4.17 in /Users/qefsquintillion/opt/anaconda3/lib/python3.8/site-packages (from requests>=2.26.0->tiktoken) (2023.5.7)\n",
      "Installing collected packages: regex, tiktoken\n",
      "  Attempting uninstall: regex\n",
      "    Found existing installation: regex 2020.10.15\n",
      "    Uninstalling regex-2020.10.15:\n",
      "      Successfully uninstalled regex-2020.10.15\n",
      "Successfully installed regex-2023.5.5 tiktoken-0.4.0\n"
     ]
    }
   ],
   "source": [
    "!pip install tiktoken"
   ]
  },
  {
   "cell_type": "code",
   "execution_count": 40,
   "metadata": {},
   "outputs": [],
   "source": [
    "from langchain.docstore.document import Document\n",
    "\n",
    "docs = [Document(page_content=t) for t in texts[:3]]"
   ]
  },
  {
   "cell_type": "code",
   "execution_count": 41,
   "metadata": {},
   "outputs": [],
   "source": [
    "from langchain.chains.summarize import load_summarize_chain"
   ]
  },
  {
   "cell_type": "code",
   "execution_count": 42,
   "metadata": {},
   "outputs": [
    {
     "data": {
      "text/plain": [
       "' Pine Street Pizza is a popular spot for locals, offering Greek-style pizza with a thick, buttery crust, cheese ravioli, and strombolis at reasonable prices. Delivery is fast and the staff is friendly, but the pizza can be cold when delivered. The person had a bad experience with the white pizza with broccoli and breaded mushrooms, but has had good experiences with takeout in the past.'"
      ]
     },
     "execution_count": 42,
     "metadata": {},
     "output_type": "execute_result"
    }
   ],
   "source": [
    "chain = load_summarize_chain(llm, chain_type=\"map_reduce\")\n",
    "chain.run(docs)"
   ]
  },
  {
   "cell_type": "code",
   "execution_count": 43,
   "metadata": {},
   "outputs": [
    {
     "data": {
      "text/plain": [
       "\"\\n\\nThis person had a bad experience at Pine Street Pizza, where they were only offered plain or pepperoni slices and the pizza was lukewarm and rubbery. They prefer NYPD Pizza and Mama Angelina's, and have had good experiences with takeout from Pine Street Pizza in the past. However, they had a bad experience with the white pizza with broccoli and breaded mushrooms, and would not recommend it. They also noted that the pizza is smaller than most in the area, but the slightly lower pricing makes up for it. Additionally, they warned to check for mold growths on the bottom of the pizza before eating. The shop has its regulars, and service is prompt with minimal wait time for food. The white anchovy pizza is a favorite, and the cheese ravioli comes with a generous portion of garlic bread. It is also conveniently located across the street from Giovanni's Room. The gyros are also tasty, and it is a popular stop for cops in the area. The strombolis are also great, and the mozz sticks are a favorite. Delivery is not recommended, as the pizza arrives cold. The pizza is different with a crisp buttery crust, and the owner recently passed away, so it is unclear how staff will change.\""
      ]
     },
     "execution_count": 43,
     "metadata": {},
     "output_type": "execute_result"
    }
   ],
   "source": [
    "chain = load_summarize_chain(llm, chain_type=\"refine\")\n",
    "chain.run(docs)"
   ]
  },
  {
   "cell_type": "code",
   "execution_count": 44,
   "metadata": {},
   "outputs": [
    {
     "data": {
      "text/plain": [
       "' Pine Street Pizza is a pizza shop in Center City, Philadelphia that has been around for years. It is known for its thick, buttery crust and generous portions of cheese and toppings. Reviews of the pizza are mixed, with some people loving it and others finding it to be rubbery and greasy. The shop also offers other items such as cheese ravioli and gyros. Delivery is available, but some customers have complained that the pizza arrives cold. Prices are reasonable and the shop is open late.'"
      ]
     },
     "execution_count": 44,
     "metadata": {},
     "output_type": "execute_result"
    }
   ],
   "source": [
    "chain = load_summarize_chain(llm, chain_type=\"stuff\")\n",
    "chain.run(docs)"
   ]
  },
  {
   "cell_type": "code",
   "execution_count": null,
   "metadata": {},
   "outputs": [],
   "source": []
  }
 ],
 "metadata": {
  "kernelspec": {
   "display_name": "Python 3",
   "language": "python",
   "name": "python3"
  },
  "language_info": {
   "codemirror_mode": {
    "name": "ipython",
    "version": 3
   },
   "file_extension": ".py",
   "mimetype": "text/x-python",
   "name": "python",
   "nbconvert_exporter": "python",
   "pygments_lexer": "ipython3",
   "version": "3.8.5"
  }
 },
 "nbformat": 4,
 "nbformat_minor": 4
}
